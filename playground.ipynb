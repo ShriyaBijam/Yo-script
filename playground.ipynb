{
 "cells": [
  {
   "cell_type": "code",
   "execution_count": 6,
   "metadata": {},
   "outputs": [],
   "source": [
    "import os\n",
    "import speech_recognition as sr\n",
    "import ffmpeg\n",
    "from pytube import YouTube"
   ]
  },
  {
   "cell_type": "code",
   "execution_count": 2,
   "metadata": {},
   "outputs": [
    {
     "name": "stdout",
     "output_type": "stream",
     "text": [
      "c:\\Users\\Shriya\\Documents\\TE Sem 6\\Mini Project 2B\\How to Add Subtitles to a YouTube Video - NEW YOUTUBE UPDATE & Automatic Subtitles (2022).mp4\n"
     ]
    }
   ],
   "source": [
    "video = YouTube(\"https://www.youtube.com/watch?v=Ad_TEk94B9Q\")\n",
    "yt = video.streams.get_audiosss_only()\n",
    "\n",
    "yt.download()\n",
    "\n",
    "current_dir = os.getcwd()\n",
    "\n"
   ]
  },
  {
   "cell_type": "code",
   "execution_count": 18,
   "metadata": {},
   "outputs": [
    {
     "name": "stdout",
     "output_type": "stream",
     "text": [
      "c:\\Users\\Shriya\\Documents\\TE Sem 6\\Mini Project 2B\\How to Add Subtitles to a YouTube Video - NEW YOUTUBE UPDATE & Automatic Subtitles (2022).mp4\n"
     ]
    }
   ],
   "source": [
    "for file in os.listdir(current_dir):\n",
    "    if file.endswith(\".mp4\"):\n",
    "        mp4_file = os.path.join(current_dir, file)\n",
    "        print(mp4_file)\n",
    "        os.rename(mp4_file, \"input.mp4\")"
   ]
  },
  {
   "cell_type": "code",
   "execution_count": 2,
   "metadata": {},
   "outputs": [
    {
     "data": {
      "text/plain": [
       "(None, None)"
      ]
     },
     "execution_count": 2,
     "metadata": {},
     "output_type": "execute_result"
    }
   ],
   "source": [
    "video = ffmpeg.input(\"input.mp4\")\n",
    "\n",
    "audio = video.audio\n",
    "\n",
    "stream = ffmpeg.output(audio, \"input.mp3\")\n",
    "\n",
    "ffmpeg.run(stream)"
   ]
  },
  {
   "cell_type": "code",
   "execution_count": 23,
   "metadata": {},
   "outputs": [
    {
     "data": {
      "text/plain": [
       "1"
      ]
     },
     "execution_count": 23,
     "metadata": {},
     "output_type": "execute_result"
    }
   ],
   "source": [
    "name = video.title\n",
    "command2mp3 = \"ffmpeg -i input.mp4 input.mp3\"\n",
    "command2wav = \"ffmpeg -i '\"+ name+\".mp3' '\"+name+\".wav'\"\n",
    "os.system(command2mp3)"
   ]
  },
  {
   "cell_type": "code",
   "execution_count": 22,
   "metadata": {},
   "outputs": [
    {
     "data": {
      "text/plain": [
       "1"
      ]
     },
     "execution_count": 22,
     "metadata": {},
     "output_type": "execute_result"
    }
   ],
   "source": [
    "os.system(command2wav)"
   ]
  },
  {
   "cell_type": "code",
   "execution_count": 7,
   "metadata": {},
   "outputs": [
    {
     "name": "stdout",
     "output_type": "stream",
     "text": [
      "read and display am requesting you have to add subtitles to a YouTube video YouTube is updated the process and outgoing upload process Season 8 subtitles value after your period is due to the step-by-step movie in Youtube video manually for wishing you have a subtitle SRT file upload video YouTube reach at the same time in just a few clicks and said that get started on YouTube and 22 of the year we apply it is applied to the year as we would normally on click on it and now with icons in YouTube video upload page in this is grounded select YouTube YouTube YouTube\n"
     ]
    }
   ],
   "source": [
    "r = sr.Recognizer()\n",
    "with sr.AudioFile(\"input.wav\") as source:\n",
    "    r.adjust_for_ambient_noise(source)\n",
    "    audio = r.record(source, duration=120) \n",
    "print(r.recognize_google(audio))"
   ]
  },
  {
   "cell_type": "code",
   "execution_count": 6,
   "metadata": {},
   "outputs": [],
   "source": [
    "from youtube_transcript_api import YouTubeTranscriptApi\n",
    "#, NoTranscriptFound, VideoUnavailable, TooManyRequests, \\\n",
    "#    TranscriptsDisabled, NoTranscriptAvailable\n",
    "from youtube_transcript_api.formatters import TextFormatter\n",
    "#from transformers import T5ForConditionalGeneration, T5Tokenizer"
   ]
  },
  {
   "cell_type": "code",
   "execution_count": 2,
   "metadata": {},
   "outputs": [],
   "source": [
    "def get_transcript(video_id):\n",
    "    # Using Formatter to store and format received subtitles properly.\n",
    "    formatter = TextFormatter()\n",
    "    transcript = YouTubeTranscriptApi.get_transcript(video_id)\n",
    "    formatted_text = formatter.format_transcript(transcript).replace(\"\\n\", \" \")\n",
    "    return formatted_text"
   ]
  },
  {
   "cell_type": "code",
   "execution_count": 34,
   "metadata": {},
   "outputs": [],
   "source": [
    "from transformers import BartTokenizer, BartForConditionalGeneration\n",
    "import torch\n",
    "def get_summary(transcript):\n",
    "    tokenizer = BartTokenizer.from_pretrained(\"./models\")\n",
    "    model = BartForConditionalGeneration.from_pretrained(\"./models\")\n",
    "    # tokenize without truncation\n",
    "    inputs_no_trunc = tokenizer(transcript, max_length=None, return_tensors='pt', truncation=False)\n",
    "    chunk_start = 0\n",
    "    chunk_end = tokenizer.model_max_length  # == 1024 for Bart\n",
    "    inputs_batch_lst = []\n",
    "    size_lst = []\n",
    "    while chunk_start <= len(inputs_no_trunc['input_ids'][0]):\n",
    "        inputs_batch = inputs_no_trunc['input_ids'][0][chunk_start:chunk_end]  # get batch of n tokens\n",
    "        inputs_batch = torch.unsqueeze(inputs_batch, 0)\n",
    "        inputs_batch_lst.append(inputs_batch)\n",
    "        size_lst.append(chunk_end-chunk_start)\n",
    "        chunk_start += tokenizer.model_max_length  # == 1024 for Bart\n",
    "        chunk_end += tokenizer.model_max_length  # == 1024 for Bart\n",
    "\n",
    "    # generate a summary on each batch\n",
    "    summary_ids_lst = [model.generate(inputs, num_beams=4, min_length=size//5, max_length=1000, early_stopping=True) for inputs, size in zip(inputs_batch_lst, size_lst)]\n",
    "\n",
    "    # decode the output and join into one string with one paragraph per summary batch\n",
    "    summary_batch_lst = []\n",
    "    for summary_id in summary_ids_lst:\n",
    "        summary_batch = [tokenizer.decode(g, skip_special_tokens=True, clean_up_tokenization_spaces=False) for g in summary_id]\n",
    "        summary_batch_lst.append(summary_batch[0])\n",
    "    summary_all = '\\n'.join(summary_batch_lst)\n",
    "    return summary_all\n",
    "\n",
    "# get batches of tokens corresponding to the exact model_max_length\n",
    "\n",
    "# def get_summary(transcript):\n",
    "#     tokenizer = BartTokenizer.from_pretrained(\"./models\", max_length=1024, truncation=True)\n",
    "#     model = BartForConditionalGeneration.from_pretrained(\"./models\")\n",
    "#     summarization = pipeline(\"summarization\", model=model, tokenizer=tokenizer)\n",
    "#     # summarization = pipeline(\"summarization\", model=\"./models\") //Works\n",
    "#     # summarization.save_pretrained(\"./\")\n",
    "#     # original_text = result\n",
    "#     summary_text = summarization(transcript, min_length=300, max_length=1000)[0]['summary_text']\n",
    "#     return summary_text"
   ]
  },
  {
   "cell_type": "code",
   "execution_count": 14,
   "metadata": {},
   "outputs": [
    {
     "name": "stdout",
     "output_type": "stream",
     "text": [
      "- Closed captions not only make your content more accessible, they can also help you improve your video rankings and traffic. So in this video, we're gonna look at why captions matter and I'm gonna show you how to add subtitles on your YouTube videos, including the best way that we found to get accurate closed captions on your content automatically. Super fast without any manual transcription. Hey, it's Justin Brown here from Primal Video where we help you amplify your business and brand with video. If you're new here, make sure you click that subscribe button and all the links to everything we mention in this video, you can find linked in the description box below, so let's jump into it. Closed captions are a great way to improve the ranking potential of your videos and also make them accessible for a broader audience. Not only do they make your content easier to understand for those who might be hard of hearing, or for those who aren't native speakers of your language. They also send some positive ranking indicators through to YouTube, as to the actual content inside of your videos, helping YouTube get your videos in front of the right people at the right time. By knowing exactly what's covered your video, YouTube will accurately match it with the search terms that your ideal viewers are using and even start ranking specific clips from within your videos in Google search results as well. Check out this example of one of our YouTube videos and how it shows up in Google search. It's actually highlighted and it's suggesting a certain section of our video where we cover that specific piece that the user has searched for. And this is based only on the transcript of what I've said inside the video. And another way that Google is starting to use this as well is it is listing out specific content areas inside of your videos, so all of these timestamps, all of these time codes were generated from Google and YouTube just by looking at the transcript of what we've said inside of our videos. So that's why they matter, but how do you actually do it? Well, there's a few different ways that you can do this. So, I'm gonna share with you exactly how we do it here at Primal Video, but first up, the default for a lot of people is actually just to rely on the automatically generated transcriptions that YouTube itself creates. The advantage of that is that it's completely free and it also happens automatically, but they're really not very accurate. In fact, some of the results are pretty hilarious. And that's why there is a whole series dedicated to caption fail videos on YouTube, but from there, you can actually manually edit your captions to fix any of those issues. This is incredibly time consuming, but it does mean that you get full control, so that you can make sure manually that it is 100% correct, but there's also another option and that's what we use at Primal Video. That is a service called Rev. It is an amazing service allowing you to create captions and subtitles for your videos really, really easy with a 99% level of accuracy because it's done by humans. And it also integrates and links with your YouTube channel, making this whole process really, really easy. So I'm gonna take you through the process now of getting this set up to get these accurate captions directly onto your YouTube videos. This is Rev.com and you can see straight away they offer transcription, captions and even foreign subtitles as well. So, you wanna go ahead and create an account or login. This is the dashboard area and this is where you can access all of your previously captioned or transcribed videos. We're gonna go to the top here to place a new order. We're gonna go down to captions. Now you got the option here to link to a public video, to upload a video and audio file directly from your computer or you can even pull your videos in directly from your YouTube or Vimeo account and this is where it gets really cool. We're gonna select YouTube and the first time you do this, you will need to link your YouTube account, so you can come up here to add your YouTube account. Select your YouTube account and you will need to allow access so that Rev can access your videos and then you're able to see all the latest videos on your channel. And you can check the box here if you only wanna show the videos that don't already have a caption file associated with it and you also need to be aware that private videos can't be selected here, so this is only gonna work for public videos or unlisted videos that are on your channel. So, we'll go ahead now and we'll select a video. Now, you can select multiple videos in here as well if you wanted to get more than one captioned at a time. Normally for us, we will do this in bulk, but for now, I'll just select this one and we'll go add selected to cart. So you can see we've got our Instagram video editing apps video there. It is a 14 minute video, which is code support that information through from YouTube and the way that Rev charges to create this captions for us, and remember they're done by humans with a 99% accuracy, is only $1.25 per minute. So it looks at the video itself and says it's 14 minutes, which calculates it out as $17.50, which is ridiculously cheap considering that a human is going to be typing this out. It's also giving us an estimated delivery time of around nine hours and in all my experiences it actually comes back earlier than whatever that estimated delivery time is, but they do say they aim to get you captions done in under 24 hours. Now, you've got some other options down at the bottom here as well, if you do wanna rush your order through. You can add an extra dollar per minute and that will expedite this project for you and it says it will delivered up to five times faster. And also, if you wanna add in any foreign language subtitles, you can do that in here as well, adding in an additional $3 per minute per language. This is something that we haven't bothered adding to our videos yet, but it could be something that we look at in the future. But the other thing that I really love about this is this little checkbox down the bottom here. Automatically deliver files back to YouTube, so what this says is when the caption files are complete, you'll receive an email confirmation and then Rev will attempt to upload that captions file directly to the appropriate video and it says to allow one to two hours for that to happen. So this mean that beyond this page, once you have paid the $17.50, that transcription, that caption will be automatically uploaded to your video with no additional work from you. Imagine if you're doing this in bulk and you're doing three or four videos at a time, it's just one simple process, click a couple of buttons and those captions are going to automatically show up on your videos. So from here, all you need to do is hit the checkout button, select your payment method, come down and hit place order and you are done. So once that captioning is done, you'll be sent an email saying that it's complete and it's also live on your YouTube channel. If you wanna download a copy of that SRT file, you can just click on the link here you'll be taken direct to a download page for that. In case you wanna use that on another platform like Facebook, maybe, or if you just wanna read through the transcription or make any manual edits to it yourself, you can hit the little edit button here or log back into Rev and you can see straight away it's boarding your YouTube video with all of the captions and everything added. And if we head over to that video on our YouTube channel, go down to edit video, go over to subtitles. We can see that we've got our new transcription in here. If we go back and play that video, come down the bottom here to close captions you can see that our accurate text is on here, not the YouTube auto generated one. This is the accurate one from Rev. So that's how easy it is to add captions and subtitles to your YouTube videos automatically with amazing level of accuracy to help your videos show up on the platform to help with your YouTube ranking, but also to help people consume your content as well. If you are looking at how you can improve your video ranking on YouTube, then check out the video linked on screen where we take you through the top three tools to help you get your videos showing up on the platform. And I'll see you in the next one.\n"
     ]
    }
   ],
   "source": [
    "f = get_transcript(\"B2-ewHcWlak\")\n",
    "print(f)"
   ]
  },
  {
   "cell_type": "code",
   "execution_count": 35,
   "metadata": {},
   "outputs": [
    {
     "name": "stderr",
     "output_type": "stream",
     "text": [
      "Token indices sequence length is longer than the specified maximum sequence length for this model (1780 > 1024). Running this sequence through the model will result in indexing errors\n"
     ]
    },
    {
     "data": {
      "text/plain": [
       "\" In this video, we're gonna look at why captions matter and I'm gonna show you how to add subtitles on your YouTube videos . Closed captions are a great way to improve the ranking potential of your videos and also make them accessible for a broader audience . The default for a lot of people is to rely on the automatically generated transcriptions that YouTube itself creates . But there's also another option and that's what we use at Primal Video. That is a service called Rev.com . It is an amazing service allowing you to create captions and subtitles for your videos really, really easy with a 99% level of accuracy because it's done by humans . And it also integrates and links with your YouTube channel, making this whole process really easy. So, you wanna go ahead and create an account or login to get this set up to get these accurate captions directly onto your videos. We're gonna go ahead to the dashboard area and this is where you can access all of your previously captioned videos\\n Rev charges to create captions for us, and remember they're done by humans with a 99% accuracy, is only $1.25 per minute . If you want to rush your order through, you can add an extra dollar per minute and that will expedite this project for you . You can add in any foreign language subtitles, adding in an additional $3 per minute per language . Once that captioning is done, you'll be sent an email saying that it's complete and it's also live on your YouTube channel . So that's how easy it is to add captions and subtitles to your YouTube videos automatically with amazing level of accuracy to help your videos show up on the platform to help with your YouTube ranking, but also to help people consume your content as well. If you are looking at how you can improve your video ranking on YouTube, then check out the video linked on screen where we take you through the top three tools to help you in the next one. And I'll see you in\""
      ]
     },
     "execution_count": 35,
     "metadata": {},
     "output_type": "execute_result"
    }
   ],
   "source": [
    "get_summary(f)"
   ]
  },
  {
   "cell_type": "code",
   "execution_count": 7,
   "metadata": {},
   "outputs": [
    {
     "name": "stdout",
     "output_type": "stream",
     "text": [
      "input\n"
     ]
    },
    {
     "data": {
      "text/plain": [
       "0"
      ]
     },
     "execution_count": 7,
     "metadata": {},
     "output_type": "execute_result"
    }
   ],
   "source": [
    "filename = \"input.mp4\"\n",
    "actual_filename = filename[:-4]\n",
    "print(actual_filename)\n",
    "os.system('ffmpeg -i {} -acodec pcm_s16le -ar 16000 {}.wav'.format(filename, actual_filename))"
   ]
  },
  {
   "cell_type": "code",
   "execution_count": null,
   "metadata": {},
   "outputs": [],
   "source": [
    "# For min 100\n",
    "\"\"\" YouTube should usually automatically try and caption your videos, but it never does a perfect job . \n",
    "To upload captions you will need to go to videos. This is the dashboard, or homepage, of the new Creator Studio . \n",
    "Once you select your captions document, it should automatically add it to the video where you can press save . \n",
    "If you don't have a captions file and you want to download the one automatically created from YouTube. \n",
    "Once downloaded, you should be able to open the file with any type of notepad program .\"\"\"\n",
    "\n",
    "# For min 300\n",
    "\"\"\" Your min_length=300 must be inferior than your max_length=142.\n",
    "YouTube should usually automatically try and caption your videos, but it never does a perfect job . \n",
    "To upload captions you will need to go to videos. This is the dashboard, or homepage, of the new Creator Studio . \n",
    "Once you select your captions document, it should automatically add it to the video where you can press save . \n",
    "If you don't have a captions file and you want to download the one automatically created from YouTube. \n",
    "Once downloaded, you should be able to open the file with any type of notepad program such as Notepad++ . \n",
    "And then you can make changes to it, perfect the grammar, change the spelling, and then re-upload it to \n",
    "YouTube as a perfectly\n",
    "\"\"\"\n",
    "\n",
    "# For min 300 and max 1000\n",
    "\"\"\"\n",
    "YouTube should usually automatically try and caption your videos, but it never does a perfect job . \n",
    "To upload captions you will need to go to videos. This is the dashboard, or homepage, of the new Creator Studio . \n",
    "Once you select your captions document, it should automatically add it to the video where you can press save . \n",
    "If you don't have a captions file and you want to download the one automatically created from YouTube. \n",
    "Once downloaded, you should be able to open the file with any type of notepad program such as Notepad++ . \n",
    "And then you can make changes to it, perfect the grammar, change the spelling, make sure everything looks right, \n",
    "and then re-upload it to YouTube as a perfectly captioned video . With captions, you can use them for Facebook and \n",
    "Twitter videos, where the audio is usually turned off by default when it also plays. And so, having captions on \n",
    "there helps grab the viewer . For more information, do look at the support page. In the meantime, if you want a bit \n",
    "of fun, rewind this video back to the beginning, re-watch the video description, but use YouTube's auto-translated ones, \n",
    "because I guarantee you the words coming out of my mouth will be the same are the ones you are reading down here. \n",
    "It will then make sure to use captions. In our video description. A link is in the video descriptions. For more info, \n",
    "please look at our support page, do\"\n",
    "\"\"\""
   ]
  },
  {
   "cell_type": "markdown",
   "metadata": {},
   "source": []
  },
  {
   "cell_type": "code",
   "execution_count": 18,
   "metadata": {},
   "outputs": [
    {
     "name": "stderr",
     "output_type": "stream",
     "text": [
      "[nltk_data] Downloading package punkt to\n",
      "[nltk_data]     C:\\Users\\Shriya\\AppData\\Roaming\\nltk_data...\n",
      "[nltk_data]   Unzipping tokenizers\\punkt.zip.\n"
     ]
    }
   ],
   "source": [
    "from transformers import AutoTokenizer, AutoModelForSeq2SeqLM\n",
    "from distutils.util import strtobool\n",
    "import nltk\n",
    "from nltk.tokenize import RegexpTokenizer, sent_tokenize\n",
    "from itertools import chain\n",
    "import os\n",
    "\n",
    "nltk.download('punkt')\n",
    "\n",
    "def sentence_segmentation(document, minimum_n_words_to_accept_sentence, language):\n",
    "    paragraphs = list(filter(lambda o: len(o.strip()) > 0, document.split('\\n')))\n",
    "\n",
    "    paragraphs = [ p.strip() for p in paragraphs ]\n",
    "\n",
    "    paragraph_sentences = [ sent_tokenize(p, language=language) for p in paragraphs ]\n",
    "\n",
    "    paragraph_sentences = chain(*paragraph_sentences)\n",
    "\n",
    "    paragraph_sentences = [ s.strip() for s in paragraph_sentences ]\n",
    "\n",
    "    normal_word_tokenizer = RegexpTokenizer(r'[^\\W_]+')\n",
    "\n",
    "    paragraph_sentences = filter(lambda o: len(normal_word_tokenizer.tokenize(o)) >= minimum_n_words_to_accept_sentence, paragraph_sentences)\n",
    "\n",
    "    return list(paragraph_sentences)\n",
    "\n",
    "class TransformersTextSummarizer():\n",
    "    def __init__ (self, model_key, language):\n",
    "        self._tokenizer = AutoTokenizer.from_pretrained(model_key)\n",
    "\n",
    "        self._language = language\n",
    "\n",
    "        self._model = AutoModelForSeq2SeqLM.from_pretrained(model_key)\n",
    "\n",
    "        self._device = 'cuda' if bool(os.getenv('USE_GPU')) else 'cpu'\n",
    "\n",
    "    def __chunk_text(self, text):\n",
    "        sentences = [ s + ' ' for s in sentence_segmentation(text, minimum_n_words_to_accept_sentence=1, language=self._language) ]\n",
    "\n",
    "        chunks = []\n",
    "\n",
    "        chunk = ''\n",
    "\n",
    "        length = 0\n",
    "\n",
    "        for sentence in sentences:\n",
    "            tokenized_sentence = self._tokenizer.encode(sentence, truncation=False, max_length=None, return_tensors='pt') [0]\n",
    "\n",
    "            if len(tokenized_sentence) > self._tokenizer.model_max_length:\n",
    "                continue\n",
    "\n",
    "            length += len(tokenized_sentence)\n",
    "\n",
    "            if length <= self._tokenizer.model_max_length:\n",
    "                chunk = chunk + sentence\n",
    "            else:\n",
    "                chunks.append(chunk.strip())\n",
    "                chunk = sentence\n",
    "                length = len(tokenized_sentence)\n",
    "\n",
    "        if len(chunk) > 0:\n",
    "            chunks.append(chunk.strip())\n",
    "\n",
    "        return chunks\n",
    "\n",
    "    def __clean_text(self, text):\n",
    "      if text.count('.') == 0:\n",
    "        return text.strip()\n",
    "\n",
    "      end_index = text.rindex('.') + 1\n",
    "\n",
    "      return text[0 : end_index].strip()\n",
    "\n",
    "    def summarize(self, text, *args, **kwargs):\n",
    "        chunk_texts = self.__chunk_text(text)\n",
    "\n",
    "        chunk_summaries = []\n",
    "\n",
    "        for chunk_text in chunk_texts:\n",
    "            input_tokenized = self._tokenizer.encode(chunk_text, return_tensors='pt')\n",
    "\n",
    "            input_tokenized = input_tokenized.to(self._device)\n",
    "\n",
    "            summary_ids = self._model.to(self._device).generate(input_tokenized, length_penalty=3.0, min_length = int(0.2 * len(chunk_text)), max_length = int(0.3 * len(chunk_text)), early_stopping=True, num_beams=5, no_repeat_ngram_size=2)\n",
    "\n",
    "            output = [self._tokenizer.decode(g, skip_special_tokens=True, clean_up_tokenization_spaces=True) for g in summary_ids]\n",
    "\n",
    "            chunk_summaries.append(output)\n",
    "\n",
    "        summaries = [ self.__clean_text(text) for chunk_summary in chunk_summaries for text in chunk_summary ]\n",
    "\n",
    "        return summaries"
   ]
  },
  {
   "cell_type": "code",
   "execution_count": 19,
   "metadata": {},
   "outputs": [],
   "source": [
    "obj = TransformersTextSummarizer(\"./models\", \"english\")"
   ]
  },
  {
   "cell_type": "code",
   "execution_count": 21,
   "metadata": {},
   "outputs": [
    {
     "data": {
      "text/plain": [
       "[\"Closed captions are a great way to improve the ranking potential of your videos and also make them accessible for a broader audience. They send positive ranking indicators through to YouTube, as to the actual content. By knowing exactly what's covered your video, YouTube will accurately match it with the search terms that your ideal viewers are using and even start ranking specific clips from within the videos in Google search results as well. There's also another option and that's what we use at Primal Video. That is a service called Rev.com that is an amazing service. And it also integrates and links with your YouTube channel, making this whole process really, really easy. So, I'm gonna take you through the process now of getting this set up to get these accurate captionions directly onto your Youtube videos. The first time you do this, you will need to link your account or login. We're gonna go ahead and then you can access all of their previously captioned or transcribed videos from your Vimeo or YouTube videos, and this is where it gets really cool. And another way that Google is starting to use this as soon as they offer transcription, caption and subtitles. You can also click here to create a new order. Click here for more information about how to add captioning and subtitle content to your new content. Scroll down for the best captionings. Check out our new video. CLICK HERE for your latest captions. Back to Mail Online. Read our latest content from our NEW CONTENT. In The Back of the Back Of The Top Of the Top of The Bottom ofthe Back To The Front ofThe Backto the Bottom To the Front OfThe Front To Your BackTo The Feature Feature. To Back The Features. For the Feature Check Out the First ToThe Top The Panel. At the bottom of our Backpage. Please share your Videos. Visit our New Tothe Feature page. Have you had a NEW TOSEND THE BACK TO THE TOP THE SEND SENTENT TO The ToSENT FROM THE Bottom OftheFeature. Send Backpacks. Do you have a New The Page. A NEW Satter. By The Scroll Back, The Story. From The Sorter.  Back Back. Your Videos, please share a Backpack. On The Tropicology. Go to The Savvy Backdoor. See.backto The Channel. Now. There have you a list of Subscriptions. It is not your favorite videos by clicking here. Don’t believe it is your favourite videos have your favorites. Submit your photos. They are your favourites. Tell us what you think you want to share. What you like to think about it. How do you wish you are looking at it again. When you know what to do it and what it needs to be. If you love to comment on the comments. Whether you don't like it, or if you need it so much, it doesn't want it or not to ignore it. Have it to say it's OK. I love it! What is it? Please email us. Let us out. Why we want you to give it back. Share your comments and comments about your suggestions. Are you. What we like you. Think about what is you and your friends. All of you say. Thank your questions. Who want your ideas. Where it has your pictures. Or you” – What do your opinions. Got your feedback. Since it‘tread it all.“What is yours. – The Comments. D. Tread your responses. Which is the backback to Backbackback.. Then, when you agree to have it for you – – You�\\u2009 Backthrough. ‘What you said. i. think it was. No comments. The comments are back to back away.. Back back. It�. You have to change your views. Try your submissions. Contact us. When it says, What what what your preferences. Submissions. C. and you mind. Not to mention your own videos are. But you believe you were. As you understand. Use it –.\",\n",
       " \"Rev charges to create captions for us, and remember they're done by humans with a 99% accuracy, is only $1.25 per minute. If you want to rush your order through, you can add an extra dollar a minute to expedite this project for you and it says it will delivered up to five times faster. Once that transcription, that caption will be automatically uploaded to your video with no additional work from you. You can also download a copy of that SRT file for that. In case you wanna use that on another platform like Facebook, maybe, or if you just wanna read through the transcription or make any manual edits to it yourself. And if we head over to that video on our YouTube channel, go down to edit video, we can see that we've got our new transcription in here. This is something we haven't bothered adding to our videos yet, but it could be something that might be a feature we'll look at in the future. We're looking at it as well as adding in subtitles. If we go back and play it, come down the bottom here you'll be able to read the little edit button here or log back into Rev. And I'll see straight away it's boarding your YouTube videos with all of the captions and everything added. It's not the auto generated text is on here, not  the YouTube auto-generated one. So that's the accurate one from Rev. It is the inaccurate text. You'll have our accurate text. We are looking you through your original transcription. I'm happy to give you your new Transcripts. The captioning. In the end of your captioned. To open it. For more information, please click here again. Please email us and send us an email and we’ve got a new caption. Back to the page. Check the checkbox. Click here and click the button to check it to add your own content. Now, all you need to click it and you are done. Scroll down and scroll down again to close it down. CLICK HERE. Go back to see the video. Don't send it back. When you're ready to open your photo. What is your description. Your video is now click to comment. Send it again and check the image. Do you have an order. Have a caption for the new image and then click again again. Click the comment to send the text to change it into the picture. Head over and read it in and say it is safe to scroll over. Back down. To add it out. There are two videos and add the audio. An additional $3.50. Add in an additional dollar per language. $17.00 to make it clear. A $10.99 to write a comment and comment on the comments. Then click back. Scroll over the photo and choose to submit your image to delete the entire video and give it all. They are a total of 10.000 words. All you know what you like to say. But you don't want it for a whole thing. No one has to do it. Don‘t.com. Or go away. Get it from the back of it! Back into it” Back home. Let it go. Watch it with your comments and your comment about your videos. Read it on your account. See the original image. For the rest of them. Tell you to share your opinion. How you say you've been in your view. At the front of you. Use it completely changed. Be careful to back over your page and back again, it has a summary. Visit the description. The video. Have your photos. Re-check it... Back back in it – The Back To The Story. iReport. Share your story.. Thank you back with the Back Back.  Back of this page, back back at the screenshot.“ Back at your post. ‘Back to The Daily Mail. T-back to view it' Back with you, Backto the top of us. – Backback. Subtailing. Listed. Docked.\"]"
      ]
     },
     "execution_count": 21,
     "metadata": {},
     "output_type": "execute_result"
    }
   ],
   "source": [
    "obj.summarize(f)"
   ]
  }
 ],
 "metadata": {
  "interpreter": {
   "hash": "8d9653d5a14329d3f988cd1441986478ac776895e99e8a2ac1e19f44399000db"
  },
  "kernelspec": {
   "display_name": "Python 3.8.5 ('mini2b')",
   "language": "python",
   "name": "python3"
  },
  "language_info": {
   "codemirror_mode": {
    "name": "ipython",
    "version": 3
   },
   "file_extension": ".py",
   "mimetype": "text/x-python",
   "name": "python",
   "nbconvert_exporter": "python",
   "pygments_lexer": "ipython3",
   "version": "3.8.5"
  },
  "orig_nbformat": 4
 },
 "nbformat": 4,
 "nbformat_minor": 2
}
